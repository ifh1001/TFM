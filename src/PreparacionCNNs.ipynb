{
 "cells": [
  {
   "cell_type": "markdown",
   "id": "87b09805",
   "metadata": {},
   "source": [
    "# TFM - Obtención de varias CNNs\n",
    "## Ismael Franco Hernando\n",
    "#### Imports"
   ]
  },
  {
   "cell_type": "code",
   "execution_count": 3,
   "id": "25f4d925",
   "metadata": {},
   "outputs": [],
   "source": [
    "from tensorflow import keras\n",
    "from mysql.connector import (connection)\n",
    "import pandas as pd\n",
    "import numpy as np\n",
    "from tensorflow.keras.models import Sequential;\n",
    "from tensorflow.keras.layers import Dense, Conv1D, MaxPooling1D, Flatten\n",
    "from sklearn.model_selection import train_test_split\n",
    "from sklearn.metrics import confusion_matrix\n",
    "from imblearn.over_sampling import RandomOverSampler"
   ]
  },
  {
   "cell_type": "markdown",
   "id": "26aa5568",
   "metadata": {},
   "source": [
    "#### Se realiza una conexión con la base de datos y se cargan las features de cada bobina"
   ]
  },
  {
   "cell_type": "code",
   "execution_count": 4,
   "id": "00ba2bf2",
   "metadata": {},
   "outputs": [],
   "source": [
    "try:\n",
    "    cnx = connection.MySQLConnection(user='leer', \n",
    "                                     password='candanal',\n",
    "                                     host='138.100.82.178',\n",
    "                                     database='deepquality_tmp')\n",
    "\n",
    "except mysql.connector.Error as err:\n",
    "    if err.errno == errorcode.ER_ACCESS_DENIED_ERROR:\n",
    "        print(\"Usuario o contraseña incorrecto\")\n",
    "    elif err.errno == errorcode.ER_BAD_DB_ERROR:\n",
    "        print(\"La base de datos no existe\")\n",
    "    else:\n",
    "        print(err)"
   ]
  },
  {
   "cell_type": "code",
   "execution_count": 5,
   "id": "e1d01917",
   "metadata": {},
   "outputs": [
    {
     "data": {
      "text/html": [
       "<div>\n",
       "<style scoped>\n",
       "    .dataframe tbody tr th:only-of-type {\n",
       "        vertical-align: middle;\n",
       "    }\n",
       "\n",
       "    .dataframe tbody tr th {\n",
       "        vertical-align: top;\n",
       "    }\n",
       "\n",
       "    .dataframe thead th {\n",
       "        text-align: right;\n",
       "    }\n",
       "</style>\n",
       "<table border=\"1\" class=\"dataframe\">\n",
       "  <thead>\n",
       "    <tr style=\"text-align: right;\">\n",
       "      <th></th>\n",
       "      <th>COILID</th>\n",
       "      <th>MID</th>\n",
       "      <th>ZNMAX_FAILURES</th>\n",
       "      <th>ZNMIN_FAILURES</th>\n",
       "      <th>CALIBRATED</th>\n",
       "      <th>TOTAL_TILEID</th>\n",
       "      <th>L_DIS</th>\n",
       "      <th>R_DIS</th>\n",
       "      <th>MAP</th>\n",
       "      <th>DECISSION_OP</th>\n",
       "    </tr>\n",
       "  </thead>\n",
       "  <tbody>\n",
       "    <tr>\n",
       "      <th>0</th>\n",
       "      <td>225216688</td>\n",
       "      <td>123.0</td>\n",
       "      <td>0</td>\n",
       "      <td>6</td>\n",
       "      <td>0</td>\n",
       "      <td>26</td>\n",
       "      <td>13</td>\n",
       "      <td>12</td>\n",
       "      <td>[-1, -1, -1, -1, -1, -1, 0, -1, -1, -1, -1, -1...</td>\n",
       "      <td>OK</td>\n",
       "    </tr>\n",
       "    <tr>\n",
       "      <th>1</th>\n",
       "      <td>225216688</td>\n",
       "      <td>124.0</td>\n",
       "      <td>4</td>\n",
       "      <td>0</td>\n",
       "      <td>0</td>\n",
       "      <td>26</td>\n",
       "      <td>3</td>\n",
       "      <td>6</td>\n",
       "      <td>[1, 1, 1, 0, 0, 0, 0, 0, 0, 0, 0, 0, 0, 0, 0, ...</td>\n",
       "      <td>OK</td>\n",
       "    </tr>\n",
       "    <tr>\n",
       "      <th>2</th>\n",
       "      <td>225216688</td>\n",
       "      <td>201.0</td>\n",
       "      <td>1</td>\n",
       "      <td>1</td>\n",
       "      <td>0</td>\n",
       "      <td>26</td>\n",
       "      <td>3</td>\n",
       "      <td>4</td>\n",
       "      <td>[-1, -1, -1, 0, 0, 0, 0, 0, 0, 0, 0, 0, 0, 0, ...</td>\n",
       "      <td>OK</td>\n",
       "    </tr>\n",
       "    <tr>\n",
       "      <th>3</th>\n",
       "      <td>225216688</td>\n",
       "      <td>202.0</td>\n",
       "      <td>1</td>\n",
       "      <td>1</td>\n",
       "      <td>0</td>\n",
       "      <td>26</td>\n",
       "      <td>13</td>\n",
       "      <td>13</td>\n",
       "      <td>[1, 1, 1, -1, -1, -1, -1, -1, -1, -1, -1, -1, ...</td>\n",
       "      <td>OK</td>\n",
       "    </tr>\n",
       "    <tr>\n",
       "      <th>4</th>\n",
       "      <td>225220725</td>\n",
       "      <td>123.0</td>\n",
       "      <td>2</td>\n",
       "      <td>5</td>\n",
       "      <td>0</td>\n",
       "      <td>54</td>\n",
       "      <td>17</td>\n",
       "      <td>27</td>\n",
       "      <td>[1, 1, 1, 1, 0, 1, 0, 0, 0, 0, -1, 0, -1, 0, -...</td>\n",
       "      <td>OK</td>\n",
       "    </tr>\n",
       "    <tr>\n",
       "      <th>...</th>\n",
       "      <td>...</td>\n",
       "      <td>...</td>\n",
       "      <td>...</td>\n",
       "      <td>...</td>\n",
       "      <td>...</td>\n",
       "      <td>...</td>\n",
       "      <td>...</td>\n",
       "      <td>...</td>\n",
       "      <td>...</td>\n",
       "      <td>...</td>\n",
       "    </tr>\n",
       "    <tr>\n",
       "      <th>4635</th>\n",
       "      <td>233652453</td>\n",
       "      <td>202.0</td>\n",
       "      <td>2</td>\n",
       "      <td>0</td>\n",
       "      <td>0</td>\n",
       "      <td>16</td>\n",
       "      <td>8</td>\n",
       "      <td>8</td>\n",
       "      <td>[0, 0, 1, 1, 1, 1, 1, 1, 1, 1, 1, 0, 1, 1, 1, 1]</td>\n",
       "      <td>OK</td>\n",
       "    </tr>\n",
       "    <tr>\n",
       "      <th>4636</th>\n",
       "      <td>233667056</td>\n",
       "      <td>123.0</td>\n",
       "      <td>1</td>\n",
       "      <td>0</td>\n",
       "      <td>0</td>\n",
       "      <td>26</td>\n",
       "      <td>13</td>\n",
       "      <td>13</td>\n",
       "      <td>[0, 0, 0, 0, 0, 0, 1, 1, 1, 1, 1, 1, 1, 1, 1, ...</td>\n",
       "      <td>OK</td>\n",
       "    </tr>\n",
       "    <tr>\n",
       "      <th>4637</th>\n",
       "      <td>233667056</td>\n",
       "      <td>124.0</td>\n",
       "      <td>1</td>\n",
       "      <td>1</td>\n",
       "      <td>0</td>\n",
       "      <td>26</td>\n",
       "      <td>13</td>\n",
       "      <td>13</td>\n",
       "      <td>[0, 0, 0, 0, 0, 0, 0, 1, 1, 1, 1, 1, 1, 1, 1, ...</td>\n",
       "      <td>OK</td>\n",
       "    </tr>\n",
       "    <tr>\n",
       "      <th>4638</th>\n",
       "      <td>233667056</td>\n",
       "      <td>201.0</td>\n",
       "      <td>1</td>\n",
       "      <td>0</td>\n",
       "      <td>0</td>\n",
       "      <td>26</td>\n",
       "      <td>13</td>\n",
       "      <td>13</td>\n",
       "      <td>[0, 0, 0, 0, 0, 0, 0, 1, 1, 1, 1, 1, 1, 1, 1, ...</td>\n",
       "      <td>OK</td>\n",
       "    </tr>\n",
       "    <tr>\n",
       "      <th>4639</th>\n",
       "      <td>233667056</td>\n",
       "      <td>202.0</td>\n",
       "      <td>1</td>\n",
       "      <td>1</td>\n",
       "      <td>0</td>\n",
       "      <td>26</td>\n",
       "      <td>13</td>\n",
       "      <td>13</td>\n",
       "      <td>[0, 0, 0, 0, 0, 0, 0, 1, 1, 1, 1, 1, 1, 1, 1, ...</td>\n",
       "      <td>OK</td>\n",
       "    </tr>\n",
       "  </tbody>\n",
       "</table>\n",
       "<p>4640 rows × 10 columns</p>\n",
       "</div>"
      ],
      "text/plain": [
       "         COILID    MID  ZNMAX_FAILURES  ZNMIN_FAILURES  CALIBRATED  \\\n",
       "0     225216688  123.0               0               6           0   \n",
       "1     225216688  124.0               4               0           0   \n",
       "2     225216688  201.0               1               1           0   \n",
       "3     225216688  202.0               1               1           0   \n",
       "4     225220725  123.0               2               5           0   \n",
       "...         ...    ...             ...             ...         ...   \n",
       "4635  233652453  202.0               2               0           0   \n",
       "4636  233667056  123.0               1               0           0   \n",
       "4637  233667056  124.0               1               1           0   \n",
       "4638  233667056  201.0               1               0           0   \n",
       "4639  233667056  202.0               1               1           0   \n",
       "\n",
       "      TOTAL_TILEID  L_DIS  R_DIS  \\\n",
       "0               26     13     12   \n",
       "1               26      3      6   \n",
       "2               26      3      4   \n",
       "3               26     13     13   \n",
       "4               54     17     27   \n",
       "...            ...    ...    ...   \n",
       "4635            16      8      8   \n",
       "4636            26     13     13   \n",
       "4637            26     13     13   \n",
       "4638            26     13     13   \n",
       "4639            26     13     13   \n",
       "\n",
       "                                                    MAP DECISSION_OP  \n",
       "0     [-1, -1, -1, -1, -1, -1, 0, -1, -1, -1, -1, -1...           OK  \n",
       "1     [1, 1, 1, 0, 0, 0, 0, 0, 0, 0, 0, 0, 0, 0, 0, ...           OK  \n",
       "2     [-1, -1, -1, 0, 0, 0, 0, 0, 0, 0, 0, 0, 0, 0, ...           OK  \n",
       "3     [1, 1, 1, -1, -1, -1, -1, -1, -1, -1, -1, -1, ...           OK  \n",
       "4     [1, 1, 1, 1, 0, 1, 0, 0, 0, 0, -1, 0, -1, 0, -...           OK  \n",
       "...                                                 ...          ...  \n",
       "4635   [0, 0, 1, 1, 1, 1, 1, 1, 1, 1, 1, 0, 1, 1, 1, 1]           OK  \n",
       "4636  [0, 0, 0, 0, 0, 0, 1, 1, 1, 1, 1, 1, 1, 1, 1, ...           OK  \n",
       "4637  [0, 0, 0, 0, 0, 0, 0, 1, 1, 1, 1, 1, 1, 1, 1, ...           OK  \n",
       "4638  [0, 0, 0, 0, 0, 0, 0, 1, 1, 1, 1, 1, 1, 1, 1, ...           OK  \n",
       "4639  [0, 0, 0, 0, 0, 0, 0, 1, 1, 1, 1, 1, 1, 1, 1, ...           OK  \n",
       "\n",
       "[4640 rows x 10 columns]"
      ]
     },
     "execution_count": 5,
     "metadata": {},
     "output_type": "execute_result"
    }
   ],
   "source": [
    "# Guardamos y mostramos las bobinas \n",
    "q01 = \"SELECT * FROM FEATURES_1D\"\n",
    "fea1D = pd.read_sql(q01,cnx)\n",
    "fea1D"
   ]
  },
  {
   "cell_type": "code",
   "execution_count": 6,
   "id": "fef14fc0",
   "metadata": {},
   "outputs": [],
   "source": [
    "# Se cierra la conexión con la base de datos\n",
    "cnx.close()"
   ]
  },
  {
   "cell_type": "markdown",
   "id": "d58125ef",
   "metadata": {},
   "source": [
    "#### Union de los mapas\n",
    "Para cada bobina se unen los mapas de la capa de arriba, sensores 123 y 124, y los mapas de las capas de abajo, sensores 201 y 202."
   ]
  },
  {
   "cell_type": "code",
   "execution_count": 7,
   "id": "a6620b26",
   "metadata": {},
   "outputs": [],
   "source": [
    "def unionMapas(datos):\n",
    "    bobinas = datos['COILID'].unique()\n",
    "    sensores = [(123.0, 124.0), (201.0, 202.0)]\n",
    "    X = np.zeros(2320).tolist()\n",
    "    Y = []\n",
    "    contadorID = 0\n",
    "    \n",
    "    for bob in bobinas:\n",
    "        for s in sensores:\n",
    "            mapa1 = datos.loc[datos['COILID']==bob].loc[datos['MID']==s[0]].MAP.iloc[0]      \n",
    "            mapa1 = np.array(mapa1[1:-1].split(',')).astype(int)\n",
    "            mapa2 = datos.loc[datos['COILID']==bob].loc[datos['MID']==s[1]].MAP.iloc[0]      \n",
    "            mapa2 = np.array(mapa2[1:-1].split(',')).astype(int)\n",
    "            X[contadorID] = np.concatenate((mapa1, mapa2), axis=0)\n",
    "            Y.append(datos.loc[datos['COILID']==bob].DECISSION_OP.iloc[0])\n",
    "            contadorID+=1\n",
    "            \n",
    "    return X,Y      \n"
   ]
  },
  {
   "cell_type": "code",
   "execution_count": 8,
   "id": "191fd4c3",
   "metadata": {},
   "outputs": [],
   "source": [
    "X,Y = unionMapas(fea1D)"
   ]
  },
  {
   "cell_type": "markdown",
   "id": "9c925552",
   "metadata": {},
   "source": [
    "#### Procesado de los datos para usarlos en la CNN\n",
    "En primer lugar se obtiene el mapa de mayor tamaño de entre todas las bobinas para hacer un padding y que todas las bobinas cuenten con el mismo tamaño."
   ]
  },
  {
   "cell_type": "code",
   "execution_count": 9,
   "id": "67066b48",
   "metadata": {},
   "outputs": [],
   "source": [
    "longitudes = []\n",
    "for x in X:\n",
    "    longitudes.append(len(x))\n",
    "    \n",
    "maxLongitud = max(longitudes)"
   ]
  },
  {
   "cell_type": "code",
   "execution_count": 10,
   "id": "47d50bc7",
   "metadata": {},
   "outputs": [],
   "source": [
    "nuevoX = []\n",
    "for x in X:\n",
    "    nuevoX.append(np.pad(x, (0,maxLongitud-len(x)), 'constant', constant_values= 0))\n",
    "    "
   ]
  },
  {
   "cell_type": "markdown",
   "id": "ccef2648",
   "metadata": {},
   "source": [
    "A continuación, se expande la dimensión del array de 2D a 3D ya que la CNN de tensroflow necesita que los datos de entrada estén en 3D"
   ]
  },
  {
   "cell_type": "code",
   "execution_count": 11,
   "id": "3ed5fc09",
   "metadata": {},
   "outputs": [
    {
     "data": {
      "text/plain": [
       "(2320, 208, 1)"
      ]
     },
     "execution_count": 11,
     "metadata": {},
     "output_type": "execute_result"
    }
   ],
   "source": [
    "X = np.expand_dims(nuevoX, axis=-1)\n",
    "X.shape"
   ]
  },
  {
   "cell_type": "markdown",
   "id": "0ac4e411",
   "metadata": {},
   "source": [
    "La CNN necesita que las clases estén en valor numérico, por lo que se pasa la label OK a 0 y NOK a 1"
   ]
  },
  {
   "cell_type": "code",
   "execution_count": 12,
   "id": "8322736b",
   "metadata": {},
   "outputs": [],
   "source": [
    "nuevoY = []\n",
    "for y in Y:\n",
    "    if y == 'OK':\n",
    "        nuevoY.append(0)\n",
    "    else:\n",
    "        nuevoY.append(1) \n",
    "        \n",
    "Y = nuevoY"
   ]
  },
  {
   "cell_type": "markdown",
   "id": "33fc187f",
   "metadata": {},
   "source": [
    "#### División de los datos para entrenar y para test"
   ]
  },
  {
   "cell_type": "code",
   "execution_count": 13,
   "id": "2b2f1964",
   "metadata": {},
   "outputs": [],
   "source": [
    "Xtrain, Xtest, Ytrain, Ytest = train_test_split(X, Y, test_size=0.3, random_state=18)"
   ]
  },
  {
   "cell_type": "markdown",
   "id": "31d1899c",
   "metadata": {},
   "source": [
    "#### Creación y evaluación del modelo"
   ]
  },
  {
   "cell_type": "code",
   "execution_count": 14,
   "id": "176e446d",
   "metadata": {},
   "outputs": [
    {
     "name": "stdout",
     "output_type": "stream",
     "text": [
      "WARNING:tensorflow:From C:\\Users\\ismaf\\anaconda3\\envs\\tfm\\lib\\site-packages\\tensorflow\\python\\ops\\init_ops.py:1251: calling VarianceScaling.__init__ (from tensorflow.python.ops.init_ops) with dtype is deprecated and will be removed in a future version.\n",
      "Instructions for updating:\n",
      "Call initializer instance with the dtype argument instead of passing it to the constructor\n",
      "Model: \"sequential\"\n",
      "_________________________________________________________________\n",
      "Layer (type)                 Output Shape              Param #   \n",
      "=================================================================\n",
      "conv1d (Conv1D)              (None, 206, 32)           128       \n",
      "_________________________________________________________________\n",
      "max_pooling1d (MaxPooling1D) (None, 103, 32)           0         \n",
      "_________________________________________________________________\n",
      "flatten (Flatten)            (None, 3296)              0         \n",
      "_________________________________________________________________\n",
      "dense (Dense)                (None, 32)                105504    \n",
      "_________________________________________________________________\n",
      "dense_1 (Dense)              (None, 8)                 264       \n",
      "_________________________________________________________________\n",
      "dense_2 (Dense)              (None, 1)                 9         \n",
      "=================================================================\n",
      "Total params: 105,905\n",
      "Trainable params: 105,905\n",
      "Non-trainable params: 0\n",
      "_________________________________________________________________\n"
     ]
    }
   ],
   "source": [
    "modelo = Sequential();\n",
    "modelo.add(Conv1D(32, 3, activation='relu', input_shape=(maxLongitud, 1)))\n",
    "modelo.add(MaxPooling1D(2))\n",
    "modelo.add(Flatten())\n",
    "modelo.add(Dense(32, activation='relu'))\n",
    "modelo.add(Dense(8, activation='relu'))\n",
    "modelo.add(Dense(1, activation='relu'))\n",
    "\n",
    "modelo.summary()"
   ]
  },
  {
   "cell_type": "code",
   "execution_count": 15,
   "id": "d385e493",
   "metadata": {},
   "outputs": [],
   "source": [
    "modelo.compile(optimizer='adam', loss='binary_crossentropy', metrics=['accuracy'])"
   ]
  },
  {
   "cell_type": "code",
   "execution_count": 16,
   "id": "b9205170",
   "metadata": {},
   "outputs": [
    {
     "name": "stdout",
     "output_type": "stream",
     "text": [
      "WARNING:tensorflow:From C:\\Users\\ismaf\\anaconda3\\envs\\tfm\\lib\\site-packages\\tensorflow\\python\\ops\\math_grad.py:1250: add_dispatch_support.<locals>.wrapper (from tensorflow.python.ops.array_ops) is deprecated and will be removed in a future version.\n",
      "Instructions for updating:\n",
      "Use tf.where in 2.0, which has the same broadcast rule as np.where\n",
      "Epoch 1/10\n",
      "1624/1624 [==============================] - 0s 184us/sample - loss: 0.5991 - acc: 0.7161\n",
      "Epoch 2/10\n",
      "1624/1624 [==============================] - 0s 105us/sample - loss: 0.5379 - acc: 0.7580\n",
      "Epoch 3/10\n",
      "1624/1624 [==============================] - 0s 101us/sample - loss: 0.5081 - acc: 0.7543\n",
      "Epoch 4/10\n",
      "1624/1624 [==============================] - 0s 136us/sample - loss: 0.4974 - acc: 0.7722\n",
      "Epoch 5/10\n",
      "1624/1624 [==============================] - 0s 199us/sample - loss: 0.4681 - acc: 0.7857\n",
      "Epoch 6/10\n",
      "1624/1624 [==============================] - 0s 202us/sample - loss: 0.4618 - acc: 0.7863\n",
      "Epoch 7/10\n",
      "1624/1624 [==============================] - 0s 206us/sample - loss: 0.4049 - acc: 0.8030\n",
      "Epoch 8/10\n",
      "1624/1624 [==============================] - 0s 189us/sample - loss: 0.4051 - acc: 0.8122\n",
      "Epoch 9/10\n",
      "1624/1624 [==============================] - 0s 195us/sample - loss: 0.3594 - acc: 0.8245\n",
      "Epoch 10/10\n",
      "1624/1624 [==============================] - 0s 195us/sample - loss: 0.3417 - acc: 0.8331\n"
     ]
    },
    {
     "data": {
      "text/plain": [
       "<tensorflow.python.keras.callbacks.History at 0x2b5d58aaa48>"
      ]
     },
     "execution_count": 16,
     "metadata": {},
     "output_type": "execute_result"
    }
   ],
   "source": [
    "modelo.fit(Xtrain, Ytrain, epochs=10, batch_size=32)"
   ]
  },
  {
   "cell_type": "code",
   "execution_count": 17,
   "id": "3b6cb565",
   "metadata": {},
   "outputs": [
    {
     "name": "stdout",
     "output_type": "stream",
     "text": [
      "696/696 [==============================] - 0s 231us/sample - loss: 1.0126 - acc: 0.7356\n",
      "\n",
      "El test loss obtenido ha sido: 1.0126329742628952\n",
      "La precisión obtenida ha sido: 0.7356322\n"
     ]
    }
   ],
   "source": [
    "# Se evalua el modelo\n",
    "resultado  = modelo.evaluate(Xtest,  Ytest)\n",
    "print(\"\\nEl test loss obtenido ha sido:\", resultado[0])\n",
    "print(\"La precisión obtenida ha sido:\", resultado[1])"
   ]
  },
  {
   "cell_type": "code",
   "execution_count": 18,
   "id": "0a5ad734",
   "metadata": {},
   "outputs": [],
   "source": [
    "# Se realizan predicciones\n",
    "Ypredic= modelo.predict(Xtest)\n",
    "\n",
    "# Se pasan las predicciones a 0s y 1s\n",
    "Yprocesada = []\n",
    "for y in Ypredic:\n",
    "    if y <= 0.5:\n",
    "        Yprocesada.append(0)\n",
    "    else:\n",
    "        Yprocesada.append(1)"
   ]
  },
  {
   "cell_type": "code",
   "execution_count": 19,
   "id": "02fb230b",
   "metadata": {},
   "outputs": [
    {
     "name": "stdout",
     "output_type": "stream",
     "text": [
      "La matriz de confusion obtenida es:\n",
      " [[425  82]\n",
      " [102  87]]\n"
     ]
    }
   ],
   "source": [
    "# Se muestra la matriz de confusión\n",
    "print(\"La matriz de confusion obtenida es:\\n\", confusion_matrix(Ytest, Yprocesada))"
   ]
  },
  {
   "cell_type": "markdown",
   "id": "f0b83223",
   "metadata": {},
   "source": [
    "#### Sobremuestreo de los datos"
   ]
  },
  {
   "cell_type": "code",
   "execution_count": 20,
   "id": "57c5f1ea",
   "metadata": {},
   "outputs": [],
   "source": [
    "# Se crea el ROS\n",
    "ros = RandomOverSampler()"
   ]
  },
  {
   "cell_type": "code",
   "execution_count": 21,
   "id": "6da0ecf2",
   "metadata": {},
   "outputs": [],
   "source": [
    "# Se realiza un sobremuestreo de los datos\n",
    "Xros, Yros = ros.fit_resample(nuevoX, Y)"
   ]
  },
  {
   "cell_type": "code",
   "execution_count": 22,
   "id": "7e1332ed",
   "metadata": {},
   "outputs": [
    {
     "data": {
      "text/plain": [
       "(3340, 208, 1)"
      ]
     },
     "execution_count": 22,
     "metadata": {},
     "output_type": "execute_result"
    }
   ],
   "source": [
    "# Se pasan los datos 2D a 3D para el modelo\n",
    "Xros = np.expand_dims(Xros, axis=-1)\n",
    "Xros.shape"
   ]
  },
  {
   "cell_type": "code",
   "execution_count": 23,
   "id": "fd804f7a",
   "metadata": {},
   "outputs": [],
   "source": [
    "# Se obtienen los datos para train y para test\n",
    "Xtrainr, Xtestr, Ytrainr, Ytestr = train_test_split(Xros, Yros, test_size=0.3, random_state=18)"
   ]
  },
  {
   "cell_type": "code",
   "execution_count": 24,
   "id": "00cb327a",
   "metadata": {},
   "outputs": [
    {
     "name": "stdout",
     "output_type": "stream",
     "text": [
      "Model: \"sequential_1\"\n",
      "_________________________________________________________________\n",
      "Layer (type)                 Output Shape              Param #   \n",
      "=================================================================\n",
      "conv1d_1 (Conv1D)            (None, 206, 32)           128       \n",
      "_________________________________________________________________\n",
      "max_pooling1d_1 (MaxPooling1 (None, 103, 32)           0         \n",
      "_________________________________________________________________\n",
      "flatten_1 (Flatten)          (None, 3296)              0         \n",
      "_________________________________________________________________\n",
      "dense_3 (Dense)              (None, 32)                105504    \n",
      "_________________________________________________________________\n",
      "dense_4 (Dense)              (None, 8)                 264       \n",
      "_________________________________________________________________\n",
      "dense_5 (Dense)              (None, 1)                 9         \n",
      "=================================================================\n",
      "Total params: 105,905\n",
      "Trainable params: 105,905\n",
      "Non-trainable params: 0\n",
      "_________________________________________________________________\n"
     ]
    }
   ],
   "source": [
    "# Se crea y se muestra el modelo\n",
    "modelo2 = Sequential();\n",
    "modelo2.add(Conv1D(32, 3, activation='relu', input_shape=(maxLongitud, 1)))\n",
    "modelo2.add(MaxPooling1D(2))\n",
    "modelo2.add(Flatten())\n",
    "modelo2.add(Dense(32, activation='relu'))\n",
    "modelo2.add(Dense(8, activation='relu'))\n",
    "modelo2.add(Dense(1, activation='relu'))\n",
    "\n",
    "modelo2.summary()"
   ]
  },
  {
   "cell_type": "code",
   "execution_count": 25,
   "id": "84c812a6",
   "metadata": {},
   "outputs": [],
   "source": [
    "# Se compila el modelo\n",
    "modelo2.compile(optimizer='adam', loss='binary_crossentropy', metrics=['accuracy'])"
   ]
  },
  {
   "cell_type": "code",
   "execution_count": 26,
   "id": "f2f79111",
   "metadata": {},
   "outputs": [
    {
     "name": "stdout",
     "output_type": "stream",
     "text": [
      "Epoch 1/10\n",
      "2338/2338 [==============================] - 0s 203us/sample - loss: 0.7566 - acc: 0.6091\n",
      "Epoch 2/10\n",
      "2338/2338 [==============================] - 1s 243us/sample - loss: 0.6457 - acc: 0.6775\n",
      "Epoch 3/10\n",
      "2338/2338 [==============================] - 1s 265us/sample - loss: 0.5769 - acc: 0.7083\n",
      "Epoch 4/10\n",
      "2338/2338 [==============================] - 1s 238us/sample - loss: 0.6184 - acc: 0.6788\n",
      "Epoch 5/10\n",
      "2338/2338 [==============================] - 1s 234us/sample - loss: 0.6338 - acc: 0.6719\n",
      "Epoch 6/10\n",
      "2338/2338 [==============================] - 1s 222us/sample - loss: 0.5340 - acc: 0.7335\n",
      "Epoch 7/10\n",
      "2338/2338 [==============================] - 0s 210us/sample - loss: 0.5018 - acc: 0.7609\n",
      "Epoch 8/10\n",
      "2338/2338 [==============================] - 1s 238us/sample - loss: 0.4627 - acc: 0.7789\n",
      "Epoch 9/10\n",
      "2338/2338 [==============================] - 1s 231us/sample - loss: 0.4426 - acc: 0.7908\n",
      "Epoch 10/10\n",
      "2338/2338 [==============================] - 1s 253us/sample - loss: 0.4149 - acc: 0.8084\n"
     ]
    },
    {
     "data": {
      "text/plain": [
       "<tensorflow.python.keras.callbacks.History at 0x2b5d8668d48>"
      ]
     },
     "execution_count": 26,
     "metadata": {},
     "output_type": "execute_result"
    }
   ],
   "source": [
    "# Se entrena el modelo\n",
    "modelo2.fit(Xtrainr, Ytrainr, epochs=10, batch_size=32)"
   ]
  },
  {
   "cell_type": "code",
   "execution_count": 27,
   "id": "75925e6b",
   "metadata": {},
   "outputs": [
    {
     "name": "stdout",
     "output_type": "stream",
     "text": [
      "1002/1002 [==============================] - 0s 177us/sample - loss: 0.6907 - acc: 0.7255\n",
      "\n",
      "El test loss obtenido ha sido: 0.6907426525732714\n",
      "La precisión obtenida ha sido: 0.7255489\n"
     ]
    }
   ],
   "source": [
    "# Se evalua el modelo\n",
    "resultado  = modelo2.evaluate(Xtestr,  Ytestr)\n",
    "print(\"\\nEl test loss obtenido ha sido:\", resultado[0])\n",
    "print(\"La precisión obtenida ha sido:\", resultado[1])"
   ]
  },
  {
   "cell_type": "code",
   "execution_count": 28,
   "id": "dc6e6a84",
   "metadata": {},
   "outputs": [],
   "source": [
    "# Se realizan predicciones\n",
    "Ypredic= modelo.predict(Xtestr)\n",
    "\n",
    "# Se pasan las predicciones a 0s y 1s\n",
    "Yprocesada = []\n",
    "for y in Ypredic:\n",
    "    if y <= 0.5:\n",
    "        Yprocesada.append(0)\n",
    "    else:\n",
    "        Yprocesada.append(1)"
   ]
  },
  {
   "cell_type": "code",
   "execution_count": 29,
   "id": "44a5dc52",
   "metadata": {},
   "outputs": [
    {
     "name": "stdout",
     "output_type": "stream",
     "text": [
      "La matriz de confusion obtenida es:\n",
      " [[424  52]\n",
      " [189 337]]\n"
     ]
    }
   ],
   "source": [
    "# Se muestra la matriz de confusión\n",
    "print(\"La matriz de confusion obtenida es:\\n\", confusion_matrix(Ytestr, Yprocesada))"
   ]
  },
  {
   "cell_type": "code",
   "execution_count": null,
   "id": "f7c138ad",
   "metadata": {},
   "outputs": [],
   "source": []
  }
 ],
 "metadata": {
  "kernelspec": {
   "display_name": "Python 3 (ipykernel)",
   "language": "python",
   "name": "python3"
  },
  "language_info": {
   "codemirror_mode": {
    "name": "ipython",
    "version": 3
   },
   "file_extension": ".py",
   "mimetype": "text/x-python",
   "name": "python",
   "nbconvert_exporter": "python",
   "pygments_lexer": "ipython3",
   "version": "3.7.16"
  }
 },
 "nbformat": 4,
 "nbformat_minor": 5
}
