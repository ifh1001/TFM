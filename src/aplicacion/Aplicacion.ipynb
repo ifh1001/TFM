{
 "cells": [
  {
   "cell_type": "markdown",
   "id": "01116a79",
   "metadata": {},
   "source": [
    "# Aplicación TFM\n",
    "\n",
    "## Realizada por Ismael Franco Hernando\n",
    "\n",
    "## Manual de Uso\n",
    "\n",
    "### Imports"
   ]
  },
  {
   "cell_type": "code",
   "execution_count": 1,
   "id": "23a76788",
   "metadata": {},
   "outputs": [],
   "source": [
    "from funciones import cargaDatos"
   ]
  },
  {
   "cell_type": "markdown",
   "id": "4e241ac8",
   "metadata": {},
   "source": [
    "### Conexión base de datos"
   ]
  },
  {
   "cell_type": "code",
   "execution_count": 2,
   "id": "d5482ec3",
   "metadata": {},
   "outputs": [],
   "source": [
    "user='leer' \n",
    "password='candanal'\n",
    "host='138.100.82.178'\n",
    "database='deepquality'"
   ]
  },
  {
   "cell_type": "markdown",
   "id": "de299177",
   "metadata": {},
   "source": [
    "### Predicción de bobinas"
   ]
  },
  {
   "cell_type": "code",
   "execution_count": 3,
   "id": "44c97910",
   "metadata": {},
   "outputs": [
    {
     "data": {
      "application/vnd.jupyter.widget-view+json": {
       "model_id": "9a90dce29cbf4bcf816ea1186ff88a17",
       "version_major": 2,
       "version_minor": 0
      },
      "text/plain": [
       "Dropdown(description='Selecciona la bobina que desees:', options=('226031456', '226101621', '226120037', '2253…"
      ]
     },
     "metadata": {},
     "output_type": "display_data"
    }
   ],
   "source": [
    "cargaDatos(user, password, host, database)\n"
   ]
  },
  {
   "cell_type": "markdown",
   "id": "97c1e7fa",
   "metadata": {},
   "source": []
  }
 ],
 "metadata": {
  "kernelspec": {
   "display_name": "Python 3 (ipykernel)",
   "language": "python",
   "name": "python3"
  },
  "language_info": {
   "codemirror_mode": {
    "name": "ipython",
    "version": 3
   },
   "file_extension": ".py",
   "mimetype": "text/x-python",
   "name": "python",
   "nbconvert_exporter": "python",
   "pygments_lexer": "ipython3",
   "version": "3.7.16"
  }
 },
 "nbformat": 4,
 "nbformat_minor": 5
}
