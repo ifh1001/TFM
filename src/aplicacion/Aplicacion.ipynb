{
    "cells": [
     {
      "cell_type": "markdown",
      "id": "01116a79",
      "metadata": {},
      "source": [
       "# TFM - Aplicación de Machine Learning a imágenes 1D y 2D de control de calidad en recubrimiento de Zinc\n",
       "# Aplicación del proyecto\n",
       "\n",
       "## Realizada por Ismael Franco Hernando\n",
       "\n",
       "## Manual de Uso\n",
       "#### Primera Ejecución (Cada vez que se abre el Notebook)\n",
       "En primer lugar, para poder utilizar la aplicación es necesario situarse en la celda de los Imports, y pulsar el botón, que se encuentra en el menú superior, llamado Run. Una vez pulsado, aparecerá a la izquierda el número 1 indicando que ya se ha terminado de ejecutar.\n",
       "\n",
       "En segundo lugar, es necesario situarse en la celda de Conexión base de datos y añadir los diferentes valores solicitador para poder acceder a la base de datos. Una vez añadidos (IMPORTANTE: cada valor tiene que estar entre comillas), volvemos a pulsar al botón Run y al ejecutarse aparecerá a la derecha un 2.\n",
       "\n",
       "Finalmente, nos situamos en la tercera y última celda, titulada Predicción de bobinas, y la ejecutamos de la misma forma que las anteriores. Tras esperar unos segundos aparecerá un desplegable con todas las IDs de las bobinas cargadas. Simplemente, se selecciona la deseada y tras esperar unos segundos se mostrarán los resultados.\n",
       "\n",
       "\n",
       "#### Resto de Veces\n",
       "Una vez ya se ha realizado la primera predicción, para realizar la siguiente es tan sencillo como dirigirse al desplegable y de nuevo seleccionar la ID de la bobina deseada. Los resultados aparecerán debajo de los anteriores.\n",
       "\n",
       "Todo este proceso se puede repetir todas las veces que se desee.\n",
       "\n",
       "\n",
       "### Imports"
      ]
     },
     {
      "cell_type": "code",
      "execution_count": 1,
      "id": "23a76788",
      "metadata": {},
      "outputs": [],
      "source": [
       "from funciones import cargaDatos"
      ]
     },
     {
      "cell_type": "markdown",
      "id": "4e241ac8",
      "metadata": {},
      "source": [
       "### Conexión base de datos"
      ]
     },
     {
      "cell_type": "code",
      "execution_count": 2,
      "id": "d5482ec3",
      "metadata": {},
      "outputs": [],
      "source": [
       "user='leer' \n",
       "password='candanal'\n",
       "host='138.100.82.178'\n",
       "database='deepquality'"
      ]
     },
     {
      "cell_type": "markdown",
      "id": "de299177",
      "metadata": {},
      "source": [
       "### Predicción de bobinas"
      ]
     },
     {
      "cell_type": "code",
      "execution_count": 3,
      "id": "44c97910",
      "metadata": {},
      "outputs": [
       {
        "data": {
         "application/vnd.jupyter.widget-view+json": {
          "model_id": "35946c130ae64212897701b945dac0f3",
          "version_major": 2,
          "version_minor": 0
         },
         "text/plain": [
          "Dropdown(description='Selecciona la bobina que desees:', options=('226031456', '226101621', '226120037', '2253…"
         ]
        },
        "metadata": {},
        "output_type": "display_data"
       }
      ],
      "source": [
       "cargaDatos(user, password, host, database)\n"
      ]
     },
     {
      "cell_type": "code",
      "execution_count": null,
      "id": "b26d85e6",
      "metadata": {},
      "outputs": [],
      "source": []
     }
    ],
    "metadata": {
     "kernelspec": {
      "display_name": "Python 3 (ipykernel)",
      "language": "python",
      "name": "python3"
     },
     "language_info": {
      "codemirror_mode": {
       "name": "ipython",
       "version": 3
      },
      "file_extension": ".py",
      "mimetype": "text/x-python",
      "name": "python",
      "nbconvert_exporter": "python",
      "pygments_lexer": "ipython3",
      "version": "3.7.16"
     }
    },
    "nbformat": 4,
    "nbformat_minor": 5
   }
   